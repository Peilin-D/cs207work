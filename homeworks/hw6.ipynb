{
 "cells": [
  {
   "cell_type": "markdown",
   "metadata": {
    "collapsed": true
   },
   "source": [
    "## Q1.\n",
    "\n",
    "Add a __setitem__ to the python linked list implementation from the lecture (this past wednesday)."
   ]
  },
  {
   "cell_type": "markdown",
   "metadata": {},
   "source": [
    "In the following code, I added a __setitem__ method and I also added some simple doctest examples to test the method. "
   ]
  },
  {
   "cell_type": "code",
   "execution_count": 6,
   "metadata": {
    "collapsed": true
   },
   "outputs": [],
   "source": [
    "from doctest import run_docstring_examples as dtest\n",
    "import numbers\n",
    "import reprlib\n",
    "class LL:\n",
    "    \"\"\"\n",
    "    >>> A = LL()  \n",
    "    >>> A[0]\n",
    "    Traceback (most recent call last):\n",
    "        ...\n",
    "    IndexError: trying to index an empty LL\n",
    "    >>> A.insert_front(1)\n",
    "    >>> A[0]\n",
    "    1\n",
    "    >>> A.insert_back(2)\n",
    "    >>> A[1]\n",
    "    2\n",
    "    >>> A\n",
    "    LL([1,...])\n",
    "    >>> myll = LL.from_components([1,2])\n",
    "    >>> myll[1]\n",
    "    1\n",
    "    >>> len(myll)\n",
    "    2\n",
    "    >>> myll[2]\n",
    "    Traceback (most recent call last):\n",
    "        ...\n",
    "    IndexError: LL index out of range\n",
    "    >>> myll[0:1]\n",
    "    Traceback (most recent call last):\n",
    "        ...\n",
    "    TypeError: LL indices must be integers\n",
    "    >>> myll[0] = 3\n",
    "    >>> myll[0]\n",
    "    3\n",
    "    >>> myll[1] = 4\n",
    "    >>> myll[1]\n",
    "    4\n",
    "    >>> myll[2] = 5\n",
    "    Traceback (most recent call last):\n",
    "        ...\n",
    "    IndexError: LL index out of range\n",
    "    >>> myll[0:1] = 6\n",
    "    Traceback (most recent call last):\n",
    "        ...\n",
    "    TypeError: LL indices must be integers\n",
    "    \"\"\"\n",
    "    @classmethod\n",
    "    def from_components(cls, components):\n",
    "        inst = cls(components[0])\n",
    "        for c in components[1:]:\n",
    "            inst.insert_front(c)\n",
    "        return inst\n",
    "        \n",
    "    def __init__(self, head=None):\n",
    "        if head is None:\n",
    "            self._headNode = None\n",
    "        else:\n",
    "            self._headNode = [head, None]\n",
    "            \n",
    "    def insert_front(self, element):\n",
    "        new_node = [element, None]\n",
    "        new_node[1] = self._headNode\n",
    "        self._headNode = new_node\n",
    "        \n",
    "    def insert_back(self, element):\n",
    "        new_node = [element, None]\n",
    "        curr_ptr = self._headNode\n",
    "        while curr_ptr[1] is not None:\n",
    "            curr_ptr = curr_ptr[1]\n",
    "        curr_ptr[1]= new_node\n",
    "        \n",
    "    def __repr__(self):\n",
    "        class_name = type(self).__name__\n",
    "        if len(self)==0:\n",
    "            components=\"\"\n",
    "        else:\n",
    "            components = reprlib.repr(self[0])\n",
    "        return '{}([{},...])'.format(class_name,components)\n",
    "\n",
    "\n",
    "    def __len__(self):\n",
    "        curr_ptr = self._headNode\n",
    "        count = 0\n",
    "        if curr_ptr==None:\n",
    "            return 0\n",
    "        while 1:\n",
    "            count = count + 1\n",
    "            if curr_ptr[1] is None:\n",
    "                break\n",
    "            curr_ptr = curr_ptr[1]\n",
    "        return count    \n",
    "    \n",
    "    def __getitem__(self, index):\n",
    "        class_name = type(self).__name__\n",
    "        if isinstance(index, numbers.Integral): \n",
    "            curr_ptr = self._headNode\n",
    "            if curr_ptr==None:\n",
    "                msg = 'trying to index an empty {class_name}' \n",
    "                raise IndexError(msg.format(class_name=class_name))\n",
    "            next_ptr = self._headNode[1]\n",
    "            count = 0\n",
    "            while 1:\n",
    "                if index == count:\n",
    "                    return curr_ptr[0]\n",
    "                if curr_ptr[1] is None:\n",
    "                    msg = '{class_name} index out of range' \n",
    "                    raise IndexError(msg.format(class_name=class_name))       \n",
    "                count += 1\n",
    "                curr_ptr = curr_ptr[1]\n",
    "        else:\n",
    "            msg = '{class_name} indices must be integers' \n",
    "            raise TypeError(msg.format(class_name=class_name))\n",
    "            \n",
    "    def __setitem__(self, index, value):\n",
    "        if isinstance(index, numbers.Integral):\n",
    "            curr_ptr = self._headNode\n",
    "            cnt = 0\n",
    "            while curr_ptr[1] is not None and cnt < index:\n",
    "                curr_ptr = curr_ptr[1]\n",
    "                cnt += 1\n",
    "            if cnt == index:\n",
    "                curr_ptr[0] = value\n",
    "            else:\n",
    "                raise IndexError('LL index out of range')\n",
    "        else:\n",
    "            raise TypeError('LL indices must be integers')"
   ]
  },
  {
   "cell_type": "code",
   "execution_count": 9,
   "metadata": {
    "collapsed": false
   },
   "outputs": [
    {
     "name": "stdout",
     "output_type": "stream",
     "text": [
      "Finding tests in NoName\n",
      "Trying:\n",
      "    A = LL()  \n",
      "Expecting nothing\n",
      "ok\n",
      "Trying:\n",
      "    A[0]\n",
      "Expecting:\n",
      "    Traceback (most recent call last):\n",
      "        ...\n",
      "    IndexError: trying to index an empty LL\n",
      "ok\n",
      "Trying:\n",
      "    A.insert_front(1)\n",
      "Expecting nothing\n",
      "ok\n",
      "Trying:\n",
      "    A[0]\n",
      "Expecting:\n",
      "    1\n",
      "ok\n",
      "Trying:\n",
      "    A.insert_back(2)\n",
      "Expecting nothing\n",
      "ok\n",
      "Trying:\n",
      "    A[1]\n",
      "Expecting:\n",
      "    2\n",
      "ok\n",
      "Trying:\n",
      "    A\n",
      "Expecting:\n",
      "    LL([1,...])\n",
      "ok\n",
      "Trying:\n",
      "    myll = LL.from_components([1,2])\n",
      "Expecting nothing\n",
      "ok\n",
      "Trying:\n",
      "    myll[1]\n",
      "Expecting:\n",
      "    1\n",
      "ok\n",
      "Trying:\n",
      "    len(myll)\n",
      "Expecting:\n",
      "    2\n",
      "ok\n",
      "Trying:\n",
      "    myll[2]\n",
      "Expecting:\n",
      "    Traceback (most recent call last):\n",
      "        ...\n",
      "    IndexError: LL index out of range\n",
      "ok\n",
      "Trying:\n",
      "    myll[0:1]\n",
      "Expecting:\n",
      "    Traceback (most recent call last):\n",
      "        ...\n",
      "    TypeError: LL indices must be integers\n",
      "ok\n",
      "Trying:\n",
      "    myll[0] = 3\n",
      "Expecting nothing\n",
      "ok\n",
      "Trying:\n",
      "    myll[0]\n",
      "Expecting:\n",
      "    3\n",
      "ok\n",
      "Trying:\n",
      "    myll[1] = 4\n",
      "Expecting nothing\n",
      "ok\n",
      "Trying:\n",
      "    myll[1]\n",
      "Expecting:\n",
      "    4\n",
      "ok\n",
      "Trying:\n",
      "    myll[2] = 5\n",
      "Expecting:\n",
      "    Traceback (most recent call last):\n",
      "        ...\n",
      "    IndexError: LL index out of range\n",
      "ok\n",
      "Trying:\n",
      "    myll[0:1] = 6\n",
      "Expecting:\n",
      "    Traceback (most recent call last):\n",
      "        ...\n",
      "    TypeError: LL indices must be integers\n",
      "ok\n"
     ]
    }
   ],
   "source": [
    "dtest(LL, globals(), verbose = True)"
   ]
  },
  {
   "cell_type": "markdown",
   "metadata": {},
   "source": [
    "## Q2.\n",
    "\n",
    "An online mean and standard deviation algorithm.\n",
    "\n",
    "Below is a function to generate a potentially infinite stream of 1-D data."
   ]
  },
  {
   "cell_type": "code",
   "execution_count": 35,
   "metadata": {
    "collapsed": false
   },
   "outputs": [],
   "source": [
    "from random import normalvariate, random\n",
    "from itertools import count\n",
    "def make_data(m, stop=None):\n",
    "    for _ in count():\n",
    "        if stop and _ > stop:\n",
    "            break\n",
    "        yield 1.0e09 + normalvariate(0, m*random() )\n",
    "        "
   ]
  },
  {
   "cell_type": "markdown",
   "metadata": {},
   "source": [
    "Here is an implementation of an online mean algorithm..see http://www.johndcook.com/blog/standard_deviation/ and the link to http://www.johndcook.com/blog/2008/09/26/comparing-three-methods-of-computing-standard-deviation/ in-between. (Convince yourselves of the formulas...)"
   ]
  },
  {
   "cell_type": "code",
   "execution_count": 36,
   "metadata": {
    "collapsed": true
   },
   "outputs": [],
   "source": [
    "def online_mean(iterator):\n",
    "    n = 0\n",
    "    mu = 0\n",
    "    for value in iterator:\n",
    "        n += 1\n",
    "        delta = value - mu\n",
    "        mu = mu + delta/n\n",
    "        yield mu"
   ]
  },
  {
   "cell_type": "markdown",
   "metadata": {},
   "source": [
    "We use out generator functions to implement iterators:"
   ]
  },
  {
   "cell_type": "code",
   "execution_count": 37,
   "metadata": {
    "collapsed": false
   },
   "outputs": [
    {
     "data": {
      "text/plain": [
       "[1000000001.3387809,\n",
       " 999999997.7676711,\n",
       " 999999994.4817712,\n",
       " 999999995.3750169,\n",
       " 999999998.5171537,\n",
       " 1000000000.200478,\n",
       " 1000000001.396329,\n",
       " 1000000000.9860353,\n",
       " 999999991.3612254,\n",
       " 1000000002.5616441,\n",
       " 999999998.2833676]"
      ]
     },
     "execution_count": 37,
     "metadata": {},
     "output_type": "execute_result"
    }
   ],
   "source": [
    "g = make_data(5, 10)\n",
    "list(g)"
   ]
  },
  {
   "cell_type": "code",
   "execution_count": 38,
   "metadata": {
    "collapsed": false
   },
   "outputs": [
    {
     "name": "stdout",
     "output_type": "stream",
     "text": [
      "<class 'generator'>\n"
     ]
    },
    {
     "data": {
      "text/plain": [
       "[999999999.9980669,\n",
       " 999999999.3561436,\n",
       " 999999999.1999214,\n",
       " 999999998.5204223,\n",
       " 999999998.0037779,\n",
       " 999999998.3088945,\n",
       " 999999999.6059519,\n",
       " 999999999.3397826,\n",
       " 999999999.4964558,\n",
       " 999999999.7687683,\n",
       " 1000000000.0368434,\n",
       " 1000000000.2324959,\n",
       " 1000000000.3356546,\n",
       " 1000000000.3643652,\n",
       " 1000000000.2801886,\n",
       " 1000000000.3053945,\n",
       " 1000000000.1235442,\n",
       " 1000000000.3862027,\n",
       " 1000000000.3581358,\n",
       " 1000000000.4920787,\n",
       " 1000000000.3572879,\n",
       " 1000000000.2109491,\n",
       " 1000000000.1541876,\n",
       " 1000000000.1481762,\n",
       " 1000000000.418504,\n",
       " 1000000000.4350363,\n",
       " 1000000000.3886176,\n",
       " 1000000000.4172977,\n",
       " 1000000000.3899544,\n",
       " 1000000000.3843002,\n",
       " 1000000000.3659649,\n",
       " 1000000000.3574309,\n",
       " 1000000000.199853,\n",
       " 1000000000.2845091,\n",
       " 1000000000.2304503,\n",
       " 1000000000.2061335,\n",
       " 1000000000.178766,\n",
       " 1000000000.225028,\n",
       " 1000000000.3758626,\n",
       " 1000000000.3974831,\n",
       " 1000000000.4282348,\n",
       " 1000000000.4050058,\n",
       " 1000000000.4093843,\n",
       " 1000000000.293729,\n",
       " 1000000000.3169991,\n",
       " 1000000000.3109092,\n",
       " 1000000000.2863685,\n",
       " 1000000000.2850714,\n",
       " 1000000000.2485706,\n",
       " 1000000000.2588124,\n",
       " 1000000000.2375818,\n",
       " 1000000000.2467536,\n",
       " 1000000000.2307132,\n",
       " 1000000000.2323738,\n",
       " 1000000000.1246848,\n",
       " 1000000000.0873661,\n",
       " 1000000000.0745589,\n",
       " 1000000000.0710856,\n",
       " 1000000000.1719736,\n",
       " 1000000000.1955175,\n",
       " 1000000000.2600948,\n",
       " 1000000000.2347195,\n",
       " 1000000000.2377287,\n",
       " 1000000000.256476,\n",
       " 1000000000.196555,\n",
       " 1000000000.1935755,\n",
       " 1000000000.0909882,\n",
       " 999999999.8533347,\n",
       " 999999999.8471841,\n",
       " 999999999.8586752,\n",
       " 999999999.8986523,\n",
       " 999999999.889427,\n",
       " 999999999.9034433,\n",
       " 999999999.907618,\n",
       " 999999999.9502139,\n",
       " 999999999.9976015,\n",
       " 1000000000.013957,\n",
       " 1000000000.0370268,\n",
       " 1000000000.00114,\n",
       " 999999999.9253343,\n",
       " 999999999.915943,\n",
       " 999999999.9124764,\n",
       " 999999999.9012773,\n",
       " 999999999.948089,\n",
       " 999999999.9787221,\n",
       " 999999999.9556798,\n",
       " 999999999.955916,\n",
       " 999999999.9652878,\n",
       " 999999999.9559119,\n",
       " 1000000000.0240219,\n",
       " 1000000000.0149637,\n",
       " 1000000000.0158389,\n",
       " 1000000000.0371126,\n",
       " 1000000000.0426648,\n",
       " 1000000000.05127,\n",
       " 1000000000.0581185,\n",
       " 1000000000.0158666,\n",
       " 999999999.9820226,\n",
       " 1000000000.0158412,\n",
       " 1000000000.032278,\n",
       " 1000000000.0048498]"
      ]
     },
     "execution_count": 38,
     "metadata": {},
     "output_type": "execute_result"
    }
   ],
   "source": [
    "g = online_mean(make_data(5, 100))\n",
    "print(type(g))\n",
    "list(g)"
   ]
  },
  {
   "cell_type": "markdown",
   "metadata": {},
   "source": [
    "### 2.1\n",
    "\n",
    "Implement the standard deviation algorithm as a generator function as\n",
    "\n",
    "```python\n",
    "def online_mean_dev(iterator):\n",
    "    BLA BLA\n",
    "    if n > 1:\n",
    "        stddev = math.sqrt(dev_accum/(n-1))\n",
    "        yield (n, value, mu, stddev)\n",
    "```"
   ]
  },
  {
   "cell_type": "code",
   "execution_count": 56,
   "metadata": {
    "collapsed": false
   },
   "outputs": [],
   "source": [
    "# your code here\n",
    "import math\n",
    "def online_mean_dev(iterator):\n",
    "    n = 0\n",
    "    mu = 0\n",
    "    dev = 0\n",
    "    for value in iterator:\n",
    "        n += 1\n",
    "        old_mu = mu\n",
    "        mu = mu + (value - mu)/n\n",
    "        dev = dev + (value - mu) * (value - old_mu)\n",
    "        if n > 1:\n",
    "            stddev = math.sqrt(dev/(n - 1))\n",
    "            yield (n, value, mu, stddev)"
   ]
  },
  {
   "cell_type": "markdown",
   "metadata": {},
   "source": [
    "Here we make 100000 element data, and run this iterator on it (imagine running this on a time-series being slowly read from disk"
   ]
  },
  {
   "cell_type": "code",
   "execution_count": 57,
   "metadata": {
    "collapsed": true
   },
   "outputs": [],
   "source": [
    "data_with_stats = online_mean_dev(make_data(5, 100000))"
   ]
  },
  {
   "cell_type": "markdown",
   "metadata": {},
   "source": [
    "## Q3.\n",
    "\n",
    "Let's do Anomaly detection. Write a routine `is_ok`:\n",
    "\n",
    "```python\n",
    "def is_ok(level, t)\n",
    "```\n",
    "\n",
    "which takes a tuple like the one yielded by your code above and returns True if the value is in between `level`-$\\sigma$ of the mean."
   ]
  },
  {
   "cell_type": "code",
   "execution_count": 58,
   "metadata": {
    "collapsed": false
   },
   "outputs": [],
   "source": [
    "def is_ok(level, t):\n",
    "    if abs(t[1] - t[2]) < t[3] * level:\n",
    "        return True \n",
    "    else:\n",
    "        return False"
   ]
  },
  {
   "cell_type": "markdown",
   "metadata": {},
   "source": [
    "We use this function to create a predicate passed through to `itertools.filterfalse` which is then used to obtain an iterator on the anomalies."
   ]
  },
  {
   "cell_type": "code",
   "execution_count": 59,
   "metadata": {
    "collapsed": true
   },
   "outputs": [],
   "source": [
    "from itertools import filterfalse\n",
    "pred = lambda t: is_ok(5, t)\n",
    "anomalies = filterfalse(pred, data_with_stats)"
   ]
  },
  {
   "cell_type": "markdown",
   "metadata": {},
   "source": [
    "We materialize the anomalies..."
   ]
  },
  {
   "cell_type": "code",
   "execution_count": 60,
   "metadata": {
    "collapsed": false
   },
   "outputs": [
    {
     "data": {
      "text/plain": [
       "[(4768, 999999984.68036, 1000000000.0127765, 2.922086981522264),\n",
       " (7047, 1000000014.8247367, 1000000000.0463713, 2.93124597705474),\n",
       " (10392, 1000000015.3078771, 1000000000.040401, 2.935966304016386),\n",
       " (12574, 999999985.1463597, 1000000000.0132565, 2.9233181790765195),\n",
       " (14209, 999999985.1987454, 1000000000.0058945, 2.9207681467643574),\n",
       " (15722, 999999983.1718143, 1000000000.007707, 2.920155027230007),\n",
       " (21022, 999999985.2008264, 1000000000.0056747, 2.9182422791432208),\n",
       " (22261, 1000000015.7997742, 1000000000.0023355, 2.9128400720095846),\n",
       " (23794, 1000000014.9619192, 1000000000.0049596, 2.903872410625253),\n",
       " (29934, 999999982.4327077, 1000000000.0037544, 2.908835621319776),\n",
       " (33823, 1000000017.2040555, 999999999.9990014, 2.8977439893141375),\n",
       " (36910, 1000000014.5597478, 999999999.9988799, 2.8995012663531803),\n",
       " (40798, 1000000014.791176, 1000000000.0010875, 2.896351770421046),\n",
       " (45604, 1000000015.711511, 999999999.9922448, 2.89439541843344),\n",
       " (46343, 999999985.0274818, 999999999.9917256, 2.8961067587490854),\n",
       " (55466, 999999984.1405283, 999999999.9947935, 2.8996959021240802),\n",
       " (56082, 1000000015.3745555, 999999999.9945121, 2.897503668085868),\n",
       " (56732, 1000000018.7604923, 999999999.9948692, 2.898777037402538),\n",
       " (61395, 1000000016.3308516, 999999999.9963413, 2.894392574291845),\n",
       " (61425, 1000000015.5199536, 999999999.9962082, 2.8947789344849606),\n",
       " (66455, 1000000014.8653862, 999999999.9937246, 2.900474037218522),\n",
       " (67783, 999999985.4244252, 999999999.9908942, 2.9005933425648944),\n",
       " (70228, 1000000015.5238643, 999999999.9923838, 2.9020596875477374),\n",
       " (70654, 1000000019.987503, 999999999.9930676, 2.9023790564405836),\n",
       " (71068, 999999984.4905087, 999999999.9924495, 2.904011061727482),\n",
       " (72195, 1000000015.7000953, 999999999.9939566, 2.9031958801632247),\n",
       " (74280, 999999985.365405, 999999999.9920589, 2.902211793468908),\n",
       " (79105, 999999984.1496023, 999999999.9914691, 2.898143350700982),\n",
       " (83917, 1000000015.5659279, 999999999.98838, 2.896820464514671),\n",
       " (91023, 1000000015.173435, 999999999.9898913, 2.8919391651484587),\n",
       " (92520, 1000000014.9212959, 999999999.9913379, 2.8902250841291663)]"
      ]
     },
     "execution_count": 60,
     "metadata": {},
     "output_type": "execute_result"
    }
   ],
   "source": [
    "list(anomalies)#materialize"
   ]
  },
  {
   "cell_type": "markdown",
   "metadata": {},
   "source": [
    "## To think of, but not hand in\n",
    "\n",
    "What kinds of anomalies will this algorithm pick up? What kinds would a shorter \"window\" of anomaly detection, like 100 points around the time in question pick? How might you create an algorithm which does window based averaging? (hint: the window size is small compared to the time series size). \n",
    "\n",
    "Finally think a bit of how you might implement all of this in a production environment..remember that data streaming in might get backed up when you handle an anomaly.\n",
    "\n",
    "(Some inspiration might accrue if you look at the docs for `collections.deque`)."
   ]
  }
 ],
 "metadata": {
  "anaconda-cloud": {},
  "kernelspec": {
   "display_name": "Python 3",
   "language": "python",
   "name": "python3"
  },
  "language_info": {
   "codemirror_mode": {
    "name": "ipython",
    "version": 3
   },
   "file_extension": ".py",
   "mimetype": "text/x-python",
   "name": "python",
   "nbconvert_exporter": "python",
   "pygments_lexer": "ipython3",
   "version": "3.5.2"
  }
 },
 "nbformat": 4,
 "nbformat_minor": 0
}
