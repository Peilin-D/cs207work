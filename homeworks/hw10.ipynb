{
 "cells": [
  {
   "cell_type": "markdown",
   "metadata": {},
   "source": [
    "# HW10"
   ]
  },
  {
   "cell_type": "markdown",
   "metadata": {},
   "source": [
    "## Q1.\n",
    "\n",
    "Implement a Key-Value Search true, which allows no duplicates, but rather, updates the value associated with the key. This will change how `insert` works. Inherit from the augmented tree:\n",
    "\n",
    "`class KeyValueBinarySearchTree(AugmentedBinarySearchTree):`\n",
    "\n",
    "- The constructor should look like this: `def __init__(self, key_value_tuple, parent=None):`. Pick the key and value out separately in the constructor, and initialize the super with just the key, setting an instance variable `self.value` to the value.\n",
    "- insert wont duplicate any more, and `addLeftChild` and `addRightChild` will need to take the tuple in as they call the constructor for us.\n",
    "- implement a `__getitem__`, `__setitem__`, and `__delitem__` so that you can use code like:\n",
    "\n",
    "`btreekv['f']` for searching\n",
    "\n",
    "`btreekv['f']=10` for inserting"
   ]
  },
  {
   "cell_type": "code",
   "execution_count": 64,
   "metadata": {
    "collapsed": true
   },
   "outputs": [],
   "source": [
    "#import base class\n",
    "from BinaryTrees import AugmentedBinarySearchTree\n",
    "\n",
    "class KeyValueBinarySearchTree(AugmentedBinarySearchTree):\n",
    "    \"\"\"\n",
    "    A key-value binary search tree\n",
    "    \n",
    "    NOTE\n",
    "    ----\n",
    "    No duplicates allowed, insert k-v pair with existing key will update the corresponding value\n",
    "    \n",
    "    EXAMPLE\n",
    "    -------\n",
    "    >>> btreekv = KeyValueBinarySearchTree(('a', 1))\n",
    "    >>> btreekv['b'] = 2\n",
    "    >>> btreekv['a']\n",
    "    1\n",
    "    >>> btreekv['b']\n",
    "    2\n",
    "    >>> btreekv['a'] = 4\n",
    "    >>> btreekv['a']\n",
    "    4\n",
    "    >>> del btreekv['b']\n",
    "    >>> btreekv['b'] == None\n",
    "    True\n",
    "    \n",
    "    \"\"\"\n",
    "    \n",
    "    def __init__(self, kv_tuple, parent=None):\n",
    "        key = kv_tuple[0]\n",
    "        val = kv_tuple[1]\n",
    "        super().__init__(key, parent)\n",
    "        self.value = val\n",
    "    \n",
    "    # add k-v tuple\n",
    "    def addLeftChild(self, kv_tuple): \n",
    "        n = self.__class__(kv_tuple, self)\n",
    "        self.left = n\n",
    "        return n\n",
    "        \n",
    "    def addRightChild(self, kv_tuple):\n",
    "        n = self.__class__(kv_tuple, self)\n",
    "        self.right = n\n",
    "        return n\n",
    "    \n",
    "    def insert(self, kv_tuple):\n",
    "        data = kv_tuple[0] # data is the key\n",
    "        if data < self.data:\n",
    "            if self.hasLeftChild():\n",
    "                self.left.insert(kv_tuple)\n",
    "            else:\n",
    "                self.addLeftChild(kv_tuple)\n",
    "                self._insert_hook()\n",
    "        elif data > self.data:\n",
    "            if self.hasRightChild():\n",
    "                self.right.insert(kv_tuple)\n",
    "            else:\n",
    "                self.addRightChild(kv_tuple)\n",
    "                self._insert_hook()\n",
    "        else: #same key found\n",
    "            self.value = kv_tuple[1] # update the value\n",
    "            self._insert_hook()\n",
    "            \n",
    "    def _remove(self, node):\n",
    "        if node.isLeaf():\n",
    "            if node.isLeftChild():\n",
    "                node.parent.left = None\n",
    "            else:\n",
    "                node.parent.right = None\n",
    "            node._remove_hook(by=node.count)\n",
    "            del node\n",
    "        elif node.hasBothChildren():\n",
    "            s = node.successor()\n",
    "            s.spliceOut()\n",
    "            s._remove_hook(by=s.count)\n",
    "            node.data = s.data\n",
    "            node.value = s.value # replace value as well\n",
    "            node._remove_hook(up=True, by = s.count - node.count)\n",
    "            node.count = s.count\n",
    "            del s #the node became the successor\n",
    "        else: # one child case\n",
    "            if node.hasLeftChild():\n",
    "                if node.isLeftChild():\n",
    "                    node.left.parent = node.parent\n",
    "                    node.parent.left = node.left\n",
    "                elif node.isRightChild():\n",
    "                    node.left.parent = node.parent\n",
    "                    node.parent.right = node.left\n",
    "                else: #root\n",
    "                    self.root = node.left\n",
    "                #node._update_sizes(up=False, by=node.count)\n",
    "                node._remove_hook(by=node.count)\n",
    "                del node\n",
    "            else:\n",
    "                if node.isLeftChild():\n",
    "                    node.right.parent = node.parent\n",
    "                    node.parent.left = node.right\n",
    "                elif node.isRightChild():\n",
    "                    node.right.parent = node.parent\n",
    "                    node.parent.right = node.right\n",
    "                else: #root\n",
    "                    self.root = node.right\n",
    "                #node._update_sizes(up=False, by=node.count)\n",
    "                node._remove_hook(by=node.count)\n",
    "                del node\n",
    "            \n",
    "    def __getitem__(self, key):\n",
    "        node = self.search(key)\n",
    "        if node is not None:\n",
    "            return node.value\n",
    "        else:\n",
    "            return None\n",
    "\n",
    "    def __setitem__(self, key, val):\n",
    "        self.insert((key, val))\n",
    "        \n",
    "    def __delitem__(self, key):\n",
    "        self.delete(key)\n",
    "        "
   ]
  },
  {
   "cell_type": "code",
   "execution_count": 65,
   "metadata": {
    "collapsed": true
   },
   "outputs": [],
   "source": [
    "btreekv = KeyValueBinarySearchTree(('a', 1))\n",
    "btreekv['b'] = 2\n",
    "btreekv['c'] = 3"
   ]
  },
  {
   "cell_type": "code",
   "execution_count": 66,
   "metadata": {
    "collapsed": false
   },
   "outputs": [
    {
     "data": {
      "text/plain": [
       "[('a', 1), ('b', 2), ('c', 3)]"
      ]
     },
     "execution_count": 66,
     "metadata": {},
     "output_type": "execute_result"
    }
   ],
   "source": [
    "del btreekv['a']\n",
    "[(e.data, e.value) for e in list(btreekv)]"
   ]
  },
  {
   "cell_type": "code",
   "execution_count": 67,
   "metadata": {
    "collapsed": false
   },
   "outputs": [
    {
     "name": "stdout",
     "output_type": "stream",
     "text": [
      "Finding tests in NoName\n",
      "Trying:\n",
      "    btreekv = KeyValueBinarySearchTree(('a', 1))\n",
      "Expecting nothing\n",
      "ok\n",
      "Trying:\n",
      "    btreekv['b'] = 2\n",
      "Expecting nothing\n",
      "ok\n",
      "Trying:\n",
      "    btreekv['a']\n",
      "Expecting:\n",
      "    1\n",
      "ok\n",
      "Trying:\n",
      "    btreekv['b']\n",
      "Expecting:\n",
      "    2\n",
      "ok\n",
      "Trying:\n",
      "    btreekv['a'] = 4\n",
      "Expecting nothing\n",
      "ok\n",
      "Trying:\n",
      "    btreekv['a']\n",
      "Expecting:\n",
      "    4\n",
      "ok\n",
      "Trying:\n",
      "    del btreekv['b']\n",
      "Expecting nothing\n",
      "ok\n",
      "Trying:\n",
      "    btreekv['b'] == None\n",
      "Expecting:\n",
      "    True\n",
      "ok\n"
     ]
    }
   ],
   "source": [
    "from doctest import run_docstring_examples as dtest\n",
    "dtest(KeyValueBinarySearchTree, globals(), verbose=True)"
   ]
  },
  {
   "cell_type": "markdown",
   "metadata": {},
   "source": [
    "It should all make sense...."
   ]
  },
  {
   "cell_type": "code",
   "execution_count": 68,
   "metadata": {
    "collapsed": true
   },
   "outputs": [],
   "source": [
    "btreekv = KeyValueBinarySearchTree(('f', 3))"
   ]
  },
  {
   "cell_type": "code",
   "execution_count": 69,
   "metadata": {
    "collapsed": true
   },
   "outputs": [],
   "source": [
    "kvdata=zip(list('jeihrifhkdfks'), range(13))"
   ]
  },
  {
   "cell_type": "code",
   "execution_count": 70,
   "metadata": {
    "collapsed": true
   },
   "outputs": [],
   "source": [
    "for k,v in kvdata:\n",
    "    btreekv[k]=v"
   ]
  },
  {
   "cell_type": "code",
   "execution_count": 71,
   "metadata": {
    "collapsed": false
   },
   "outputs": [
    {
     "data": {
      "text/plain": [
       "[('d', 9),\n",
       " ('e', 1),\n",
       " ('f', 10),\n",
       " ('h', 7),\n",
       " ('i', 5),\n",
       " ('j', 0),\n",
       " ('k', 11),\n",
       " ('r', 4),\n",
       " ('s', 12)]"
      ]
     },
     "execution_count": 71,
     "metadata": {},
     "output_type": "execute_result"
    }
   ],
   "source": [
    "[(e.data, e.value) for e in list(btreekv)]"
   ]
  },
  {
   "cell_type": "code",
   "execution_count": 72,
   "metadata": {
    "collapsed": true
   },
   "outputs": [],
   "source": [
    "del btreekv['f']"
   ]
  },
  {
   "cell_type": "code",
   "execution_count": 73,
   "metadata": {
    "collapsed": false
   },
   "outputs": [
    {
     "data": {
      "text/plain": [
       "[('d', 9),\n",
       " ('e', 1),\n",
       " ('h', 7),\n",
       " ('i', 5),\n",
       " ('j', 0),\n",
       " ('k', 11),\n",
       " ('r', 4),\n",
       " ('s', 12)]"
      ]
     },
     "execution_count": 73,
     "metadata": {},
     "output_type": "execute_result"
    }
   ],
   "source": [
    "[(e.data, e.value) for e in list(btreekv)]"
   ]
  }
 ],
 "metadata": {
  "kernelspec": {
   "display_name": "Python 3",
   "language": "python",
   "name": "python3"
  },
  "language_info": {
   "codemirror_mode": {
    "name": "ipython",
    "version": 3
   },
   "file_extension": ".py",
   "mimetype": "text/x-python",
   "name": "python",
   "nbconvert_exporter": "python",
   "pygments_lexer": "ipython3",
   "version": "3.5.2"
  }
 },
 "nbformat": 4,
 "nbformat_minor": 0
}
